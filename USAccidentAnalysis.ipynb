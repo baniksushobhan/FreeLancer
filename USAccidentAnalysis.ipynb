{
  "nbformat": 4,
  "nbformat_minor": 0,
  "metadata": {
    "colab": {
      "provenance": [],
      "include_colab_link": true
    },
    "kernelspec": {
      "name": "python3",
      "display_name": "Python 3"
    },
    "language_info": {
      "name": "python"
    }
  },
  "cells": [
    {
      "cell_type": "markdown",
      "metadata": {
        "id": "view-in-github",
        "colab_type": "text"
      },
      "source": [
        "<a href=\"https://colab.research.google.com/github/baniksushobhan/FreeLancer/blob/main/USAccidentAnalysis.ipynb\" target=\"_parent\"><img src=\"https://colab.research.google.com/assets/colab-badge.svg\" alt=\"Open In Colab\"/></a>"
      ]
    },
    {
      "cell_type": "code",
      "execution_count": null,
      "metadata": {
        "id": "U-IURTcXNGPz"
      },
      "outputs": [],
      "source": []
    },
    {
      "cell_type": "markdown",
      "source": [
        "US Accidents Exploratory Data Analysis"
      ],
      "metadata": {
        "id": "8T-v76teNt9Z"
      }
    },
    {
      "cell_type": "markdown",
      "source": [
        "## DownLoad the Data"
      ],
      "metadata": {
        "id": "nWb3XtAROJaf"
      }
    },
    {
      "cell_type": "code",
      "source": [
        "pip install opendatasets --upgrade"
      ],
      "metadata": {
        "id": "xaqH4X6hOigw",
        "colab": {
          "base_uri": "https://localhost:8080/"
        },
        "outputId": "9b207300-ccc3-4e53-ddf4-8ec60c26d289"
      },
      "execution_count": 2,
      "outputs": [
        {
          "output_type": "stream",
          "name": "stdout",
          "text": [
            "Requirement already satisfied: opendatasets in /usr/local/lib/python3.11/dist-packages (0.1.22)\n",
            "Requirement already satisfied: tqdm in /usr/local/lib/python3.11/dist-packages (from opendatasets) (4.67.1)\n",
            "Requirement already satisfied: kaggle in /usr/local/lib/python3.11/dist-packages (from opendatasets) (1.6.17)\n",
            "Requirement already satisfied: click in /usr/local/lib/python3.11/dist-packages (from opendatasets) (8.1.8)\n",
            "Requirement already satisfied: six>=1.10 in /usr/local/lib/python3.11/dist-packages (from kaggle->opendatasets) (1.17.0)\n",
            "Requirement already satisfied: certifi>=2023.7.22 in /usr/local/lib/python3.11/dist-packages (from kaggle->opendatasets) (2025.1.31)\n",
            "Requirement already satisfied: python-dateutil in /usr/local/lib/python3.11/dist-packages (from kaggle->opendatasets) (2.8.2)\n",
            "Requirement already satisfied: requests in /usr/local/lib/python3.11/dist-packages (from kaggle->opendatasets) (2.32.3)\n",
            "Requirement already satisfied: python-slugify in /usr/local/lib/python3.11/dist-packages (from kaggle->opendatasets) (8.0.4)\n",
            "Requirement already satisfied: urllib3 in /usr/local/lib/python3.11/dist-packages (from kaggle->opendatasets) (2.3.0)\n",
            "Requirement already satisfied: bleach in /usr/local/lib/python3.11/dist-packages (from kaggle->opendatasets) (6.2.0)\n",
            "Requirement already satisfied: webencodings in /usr/local/lib/python3.11/dist-packages (from bleach->kaggle->opendatasets) (0.5.1)\n",
            "Requirement already satisfied: text-unidecode>=1.3 in /usr/local/lib/python3.11/dist-packages (from python-slugify->kaggle->opendatasets) (1.3)\n",
            "Requirement already satisfied: charset-normalizer<4,>=2 in /usr/local/lib/python3.11/dist-packages (from requests->kaggle->opendatasets) (3.4.1)\n",
            "Requirement already satisfied: idna<4,>=2.5 in /usr/local/lib/python3.11/dist-packages (from requests->kaggle->opendatasets) (3.10)\n"
          ]
        }
      ]
    },
    {
      "cell_type": "code",
      "source": [
        "import opendatasets as od\n",
        "download_url = 'https://www.kaggle.com/datasets/sobhanmoosavi/us-accidents'\n",
        "od.download(download_url)"
      ],
      "metadata": {
        "id": "j-pO9qzpOiRf",
        "colab": {
          "base_uri": "https://localhost:8080/"
        },
        "outputId": "ea1d3f06-53eb-426d-d69a-fd81378e3dfc"
      },
      "execution_count": 3,
      "outputs": [
        {
          "output_type": "stream",
          "name": "stdout",
          "text": [
            "Skipping, found downloaded files in \"./us-accidents\" (use force=True to force download)\n"
          ]
        }
      ]
    },
    {
      "cell_type": "code",
      "source": [
        "data_filename='./us-accidents/US_Accidents_March23.csv'\n",
        "data_fileName2='./us-jobs-on-monstercom/monster_com-job_sample.csv'"
      ],
      "metadata": {
        "id": "Cqi-teoluzYv"
      },
      "execution_count": 9,
      "outputs": []
    },
    {
      "cell_type": "markdown",
      "source": [
        "## Data Preparation and cleaning\n",
        "\n",
        "1. Load the file using Pandas\n",
        "2. Look at some information about the data & the columns\n",
        "3. Fix any missing or incorrect values"
      ],
      "metadata": {
        "id": "YLHzMi0TOkDc"
      }
    },
    {
      "cell_type": "code",
      "source": [
        "import pandas as pd\n",
        "\n"
      ],
      "metadata": {
        "id": "vw5IlzAyRDO1"
      },
      "execution_count": 8,
      "outputs": []
    },
    {
      "cell_type": "code",
      "source": [
        "\n",
        "    df = pd.read_csv(data_filename)"
      ],
      "metadata": {
        "id": "dqPKGnNiRDDu"
      },
      "execution_count": 12,
      "outputs": []
    },
    {
      "cell_type": "markdown",
      "source": [
        "Exploratory Analysis and Visualization"
      ],
      "metadata": {
        "id": "APcFS3N5RDz2"
      }
    },
    {
      "cell_type": "code",
      "source": [
        "df.info()"
      ],
      "metadata": {
        "colab": {
          "base_uri": "https://localhost:8080/"
        },
        "id": "Roch48SG15h5",
        "outputId": "7a79e7ed-6b69-4fcb-fb79-5372cca71a31"
      },
      "execution_count": 13,
      "outputs": [
        {
          "output_type": "stream",
          "name": "stdout",
          "text": [
            "<class 'pandas.core.frame.DataFrame'>\n",
            "RangeIndex: 7728394 entries, 0 to 7728393\n",
            "Data columns (total 46 columns):\n",
            " #   Column                 Dtype  \n",
            "---  ------                 -----  \n",
            " 0   ID                     object \n",
            " 1   Source                 object \n",
            " 2   Severity               int64  \n",
            " 3   Start_Time             object \n",
            " 4   End_Time               object \n",
            " 5   Start_Lat              float64\n",
            " 6   Start_Lng              float64\n",
            " 7   End_Lat                float64\n",
            " 8   End_Lng                float64\n",
            " 9   Distance(mi)           float64\n",
            " 10  Description            object \n",
            " 11  Street                 object \n",
            " 12  City                   object \n",
            " 13  County                 object \n",
            " 14  State                  object \n",
            " 15  Zipcode                object \n",
            " 16  Country                object \n",
            " 17  Timezone               object \n",
            " 18  Airport_Code           object \n",
            " 19  Weather_Timestamp      object \n",
            " 20  Temperature(F)         float64\n",
            " 21  Wind_Chill(F)          float64\n",
            " 22  Humidity(%)            float64\n",
            " 23  Pressure(in)           float64\n",
            " 24  Visibility(mi)         float64\n",
            " 25  Wind_Direction         object \n",
            " 26  Wind_Speed(mph)        float64\n",
            " 27  Precipitation(in)      float64\n",
            " 28  Weather_Condition      object \n",
            " 29  Amenity                bool   \n",
            " 30  Bump                   bool   \n",
            " 31  Crossing               bool   \n",
            " 32  Give_Way               bool   \n",
            " 33  Junction               bool   \n",
            " 34  No_Exit                bool   \n",
            " 35  Railway                bool   \n",
            " 36  Roundabout             bool   \n",
            " 37  Station                bool   \n",
            " 38  Stop                   bool   \n",
            " 39  Traffic_Calming        bool   \n",
            " 40  Traffic_Signal         bool   \n",
            " 41  Turning_Loop           bool   \n",
            " 42  Sunrise_Sunset         object \n",
            " 43  Civil_Twilight         object \n",
            " 44  Nautical_Twilight      object \n",
            " 45  Astronomical_Twilight  object \n",
            "dtypes: bool(13), float64(12), int64(1), object(20)\n",
            "memory usage: 2.0+ GB\n"
          ]
        }
      ]
    },
    {
      "cell_type": "markdown",
      "source": [
        "## How many numeric columns do we have?"
      ],
      "metadata": {
        "id": "PjAuPBbkADkM"
      }
    },
    {
      "cell_type": "code",
      "source": [
        "\n",
        "numerics = ['int16', 'int32', 'int64', 'float16', 'float32', 'float64']\n",
        "\n",
        "numeric_df = df.select_dtypes(include=numerics)\n",
        "len(numeric_df.columns)"
      ],
      "metadata": {
        "colab": {
          "base_uri": "https://localhost:8080/"
        },
        "id": "gfCILqQB2Zsx",
        "outputId": "18c2d3b7-f88c-4c5a-eaf6-043affe15915"
      },
      "execution_count": 17,
      "outputs": [
        {
          "output_type": "execute_result",
          "data": {
            "text/plain": [
              "13"
            ]
          },
          "metadata": {},
          "execution_count": 17
        }
      ]
    },
    {
      "cell_type": "code",
      "source": [
        "df.isna().sum()"
      ],
      "metadata": {
        "colab": {
          "base_uri": "https://localhost:8080/",
          "height": 1000
        },
        "id": "-QmqKf_M2y6E",
        "outputId": "ab0d36ab-d9fb-4bb1-9336-e3cb794964d2"
      },
      "execution_count": 22,
      "outputs": [
        {
          "output_type": "execute_result",
          "data": {
            "text/plain": [
              "ID                             0\n",
              "Source                         0\n",
              "Severity                       0\n",
              "Start_Time                     0\n",
              "End_Time                       0\n",
              "Start_Lat                      0\n",
              "Start_Lng                      0\n",
              "End_Lat                  3402762\n",
              "End_Lng                  3402762\n",
              "Distance(mi)                   0\n",
              "Description                    5\n",
              "Street                     10869\n",
              "City                         253\n",
              "County                         0\n",
              "State                          0\n",
              "Zipcode                     1915\n",
              "Country                        0\n",
              "Timezone                    7808\n",
              "Airport_Code               22635\n",
              "Weather_Timestamp         120228\n",
              "Temperature(F)            163853\n",
              "Wind_Chill(F)            1999019\n",
              "Humidity(%)               174144\n",
              "Pressure(in)              140679\n",
              "Visibility(mi)            177098\n",
              "Wind_Direction            175206\n",
              "Wind_Speed(mph)           571233\n",
              "Precipitation(in)        2203586\n",
              "Weather_Condition         173459\n",
              "Amenity                        0\n",
              "Bump                           0\n",
              "Crossing                       0\n",
              "Give_Way                       0\n",
              "Junction                       0\n",
              "No_Exit                        0\n",
              "Railway                        0\n",
              "Roundabout                     0\n",
              "Station                        0\n",
              "Stop                           0\n",
              "Traffic_Calming                0\n",
              "Traffic_Signal                 0\n",
              "Turning_Loop                   0\n",
              "Sunrise_Sunset             23246\n",
              "Civil_Twilight             23246\n",
              "Nautical_Twilight          23246\n",
              "Astronomical_Twilight      23246\n",
              "dtype: int64"
            ],
            "text/html": [
              "<div>\n",
              "<style scoped>\n",
              "    .dataframe tbody tr th:only-of-type {\n",
              "        vertical-align: middle;\n",
              "    }\n",
              "\n",
              "    .dataframe tbody tr th {\n",
              "        vertical-align: top;\n",
              "    }\n",
              "\n",
              "    .dataframe thead th {\n",
              "        text-align: right;\n",
              "    }\n",
              "</style>\n",
              "<table border=\"1\" class=\"dataframe\">\n",
              "  <thead>\n",
              "    <tr style=\"text-align: right;\">\n",
              "      <th></th>\n",
              "      <th>0</th>\n",
              "    </tr>\n",
              "  </thead>\n",
              "  <tbody>\n",
              "    <tr>\n",
              "      <th>ID</th>\n",
              "      <td>0</td>\n",
              "    </tr>\n",
              "    <tr>\n",
              "      <th>Source</th>\n",
              "      <td>0</td>\n",
              "    </tr>\n",
              "    <tr>\n",
              "      <th>Severity</th>\n",
              "      <td>0</td>\n",
              "    </tr>\n",
              "    <tr>\n",
              "      <th>Start_Time</th>\n",
              "      <td>0</td>\n",
              "    </tr>\n",
              "    <tr>\n",
              "      <th>End_Time</th>\n",
              "      <td>0</td>\n",
              "    </tr>\n",
              "    <tr>\n",
              "      <th>Start_Lat</th>\n",
              "      <td>0</td>\n",
              "    </tr>\n",
              "    <tr>\n",
              "      <th>Start_Lng</th>\n",
              "      <td>0</td>\n",
              "    </tr>\n",
              "    <tr>\n",
              "      <th>End_Lat</th>\n",
              "      <td>3402762</td>\n",
              "    </tr>\n",
              "    <tr>\n",
              "      <th>End_Lng</th>\n",
              "      <td>3402762</td>\n",
              "    </tr>\n",
              "    <tr>\n",
              "      <th>Distance(mi)</th>\n",
              "      <td>0</td>\n",
              "    </tr>\n",
              "    <tr>\n",
              "      <th>Description</th>\n",
              "      <td>5</td>\n",
              "    </tr>\n",
              "    <tr>\n",
              "      <th>Street</th>\n",
              "      <td>10869</td>\n",
              "    </tr>\n",
              "    <tr>\n",
              "      <th>City</th>\n",
              "      <td>253</td>\n",
              "    </tr>\n",
              "    <tr>\n",
              "      <th>County</th>\n",
              "      <td>0</td>\n",
              "    </tr>\n",
              "    <tr>\n",
              "      <th>State</th>\n",
              "      <td>0</td>\n",
              "    </tr>\n",
              "    <tr>\n",
              "      <th>Zipcode</th>\n",
              "      <td>1915</td>\n",
              "    </tr>\n",
              "    <tr>\n",
              "      <th>Country</th>\n",
              "      <td>0</td>\n",
              "    </tr>\n",
              "    <tr>\n",
              "      <th>Timezone</th>\n",
              "      <td>7808</td>\n",
              "    </tr>\n",
              "    <tr>\n",
              "      <th>Airport_Code</th>\n",
              "      <td>22635</td>\n",
              "    </tr>\n",
              "    <tr>\n",
              "      <th>Weather_Timestamp</th>\n",
              "      <td>120228</td>\n",
              "    </tr>\n",
              "    <tr>\n",
              "      <th>Temperature(F)</th>\n",
              "      <td>163853</td>\n",
              "    </tr>\n",
              "    <tr>\n",
              "      <th>Wind_Chill(F)</th>\n",
              "      <td>1999019</td>\n",
              "    </tr>\n",
              "    <tr>\n",
              "      <th>Humidity(%)</th>\n",
              "      <td>174144</td>\n",
              "    </tr>\n",
              "    <tr>\n",
              "      <th>Pressure(in)</th>\n",
              "      <td>140679</td>\n",
              "    </tr>\n",
              "    <tr>\n",
              "      <th>Visibility(mi)</th>\n",
              "      <td>177098</td>\n",
              "    </tr>\n",
              "    <tr>\n",
              "      <th>Wind_Direction</th>\n",
              "      <td>175206</td>\n",
              "    </tr>\n",
              "    <tr>\n",
              "      <th>Wind_Speed(mph)</th>\n",
              "      <td>571233</td>\n",
              "    </tr>\n",
              "    <tr>\n",
              "      <th>Precipitation(in)</th>\n",
              "      <td>2203586</td>\n",
              "    </tr>\n",
              "    <tr>\n",
              "      <th>Weather_Condition</th>\n",
              "      <td>173459</td>\n",
              "    </tr>\n",
              "    <tr>\n",
              "      <th>Amenity</th>\n",
              "      <td>0</td>\n",
              "    </tr>\n",
              "    <tr>\n",
              "      <th>Bump</th>\n",
              "      <td>0</td>\n",
              "    </tr>\n",
              "    <tr>\n",
              "      <th>Crossing</th>\n",
              "      <td>0</td>\n",
              "    </tr>\n",
              "    <tr>\n",
              "      <th>Give_Way</th>\n",
              "      <td>0</td>\n",
              "    </tr>\n",
              "    <tr>\n",
              "      <th>Junction</th>\n",
              "      <td>0</td>\n",
              "    </tr>\n",
              "    <tr>\n",
              "      <th>No_Exit</th>\n",
              "      <td>0</td>\n",
              "    </tr>\n",
              "    <tr>\n",
              "      <th>Railway</th>\n",
              "      <td>0</td>\n",
              "    </tr>\n",
              "    <tr>\n",
              "      <th>Roundabout</th>\n",
              "      <td>0</td>\n",
              "    </tr>\n",
              "    <tr>\n",
              "      <th>Station</th>\n",
              "      <td>0</td>\n",
              "    </tr>\n",
              "    <tr>\n",
              "      <th>Stop</th>\n",
              "      <td>0</td>\n",
              "    </tr>\n",
              "    <tr>\n",
              "      <th>Traffic_Calming</th>\n",
              "      <td>0</td>\n",
              "    </tr>\n",
              "    <tr>\n",
              "      <th>Traffic_Signal</th>\n",
              "      <td>0</td>\n",
              "    </tr>\n",
              "    <tr>\n",
              "      <th>Turning_Loop</th>\n",
              "      <td>0</td>\n",
              "    </tr>\n",
              "    <tr>\n",
              "      <th>Sunrise_Sunset</th>\n",
              "      <td>23246</td>\n",
              "    </tr>\n",
              "    <tr>\n",
              "      <th>Civil_Twilight</th>\n",
              "      <td>23246</td>\n",
              "    </tr>\n",
              "    <tr>\n",
              "      <th>Nautical_Twilight</th>\n",
              "      <td>23246</td>\n",
              "    </tr>\n",
              "    <tr>\n",
              "      <th>Astronomical_Twilight</th>\n",
              "      <td>23246</td>\n",
              "    </tr>\n",
              "  </tbody>\n",
              "</table>\n",
              "</div><br><label><b>dtype:</b> int64</label>"
            ]
          },
          "metadata": {},
          "execution_count": 22
        }
      ]
    },
    {
      "cell_type": "markdown",
      "source": [
        "## Percentage of missing values per column\n"
      ],
      "metadata": {
        "id": "JPtAOL7Q3UAT"
      }
    },
    {
      "cell_type": "code",
      "source": [
        "missing_percentage = df.isna().sum().sort_values(ascending=False)/len(df)\n",
        "missing_percentage"
      ],
      "metadata": {
        "colab": {
          "base_uri": "https://localhost:8080/",
          "height": 1000
        },
        "id": "FSeya30c3Pqd",
        "outputId": "9adcc466-2fc7-49aa-cfa9-95cbfe6d9a62"
      },
      "execution_count": 14,
      "outputs": [
        {
          "output_type": "execute_result",
          "data": {
            "text/plain": [
              "End_Lat                  4.402935e-01\n",
              "End_Lng                  4.402935e-01\n",
              "Precipitation(in)        2.851286e-01\n",
              "Wind_Chill(F)            2.586590e-01\n",
              "Wind_Speed(mph)          7.391355e-02\n",
              "Visibility(mi)           2.291524e-02\n",
              "Wind_Direction           2.267043e-02\n",
              "Humidity(%)              2.253301e-02\n",
              "Weather_Condition        2.244438e-02\n",
              "Temperature(F)           2.120143e-02\n",
              "Pressure(in)             1.820288e-02\n",
              "Weather_Timestamp        1.555666e-02\n",
              "Nautical_Twilight        3.007869e-03\n",
              "Civil_Twilight           3.007869e-03\n",
              "Sunrise_Sunset           3.007869e-03\n",
              "Astronomical_Twilight    3.007869e-03\n",
              "Airport_Code             2.928810e-03\n",
              "Street                   1.406372e-03\n",
              "Timezone                 1.010300e-03\n",
              "Zipcode                  2.477876e-04\n",
              "City                     3.273643e-05\n",
              "Description              6.469649e-07\n",
              "Traffic_Signal           0.000000e+00\n",
              "Roundabout               0.000000e+00\n",
              "Station                  0.000000e+00\n",
              "Stop                     0.000000e+00\n",
              "Traffic_Calming          0.000000e+00\n",
              "Country                  0.000000e+00\n",
              "Turning_Loop             0.000000e+00\n",
              "No_Exit                  0.000000e+00\n",
              "End_Time                 0.000000e+00\n",
              "Start_Time               0.000000e+00\n",
              "Severity                 0.000000e+00\n",
              "Railway                  0.000000e+00\n",
              "Crossing                 0.000000e+00\n",
              "Junction                 0.000000e+00\n",
              "Give_Way                 0.000000e+00\n",
              "Bump                     0.000000e+00\n",
              "Amenity                  0.000000e+00\n",
              "Start_Lat                0.000000e+00\n",
              "Start_Lng                0.000000e+00\n",
              "Distance(mi)             0.000000e+00\n",
              "Source                   0.000000e+00\n",
              "County                   0.000000e+00\n",
              "State                    0.000000e+00\n",
              "ID                       0.000000e+00\n",
              "dtype: float64"
            ],
            "text/html": [
              "<div>\n",
              "<style scoped>\n",
              "    .dataframe tbody tr th:only-of-type {\n",
              "        vertical-align: middle;\n",
              "    }\n",
              "\n",
              "    .dataframe tbody tr th {\n",
              "        vertical-align: top;\n",
              "    }\n",
              "\n",
              "    .dataframe thead th {\n",
              "        text-align: right;\n",
              "    }\n",
              "</style>\n",
              "<table border=\"1\" class=\"dataframe\">\n",
              "  <thead>\n",
              "    <tr style=\"text-align: right;\">\n",
              "      <th></th>\n",
              "      <th>0</th>\n",
              "    </tr>\n",
              "  </thead>\n",
              "  <tbody>\n",
              "    <tr>\n",
              "      <th>End_Lat</th>\n",
              "      <td>4.402935e-01</td>\n",
              "    </tr>\n",
              "    <tr>\n",
              "      <th>End_Lng</th>\n",
              "      <td>4.402935e-01</td>\n",
              "    </tr>\n",
              "    <tr>\n",
              "      <th>Precipitation(in)</th>\n",
              "      <td>2.851286e-01</td>\n",
              "    </tr>\n",
              "    <tr>\n",
              "      <th>Wind_Chill(F)</th>\n",
              "      <td>2.586590e-01</td>\n",
              "    </tr>\n",
              "    <tr>\n",
              "      <th>Wind_Speed(mph)</th>\n",
              "      <td>7.391355e-02</td>\n",
              "    </tr>\n",
              "    <tr>\n",
              "      <th>Visibility(mi)</th>\n",
              "      <td>2.291524e-02</td>\n",
              "    </tr>\n",
              "    <tr>\n",
              "      <th>Wind_Direction</th>\n",
              "      <td>2.267043e-02</td>\n",
              "    </tr>\n",
              "    <tr>\n",
              "      <th>Humidity(%)</th>\n",
              "      <td>2.253301e-02</td>\n",
              "    </tr>\n",
              "    <tr>\n",
              "      <th>Weather_Condition</th>\n",
              "      <td>2.244438e-02</td>\n",
              "    </tr>\n",
              "    <tr>\n",
              "      <th>Temperature(F)</th>\n",
              "      <td>2.120143e-02</td>\n",
              "    </tr>\n",
              "    <tr>\n",
              "      <th>Pressure(in)</th>\n",
              "      <td>1.820288e-02</td>\n",
              "    </tr>\n",
              "    <tr>\n",
              "      <th>Weather_Timestamp</th>\n",
              "      <td>1.555666e-02</td>\n",
              "    </tr>\n",
              "    <tr>\n",
              "      <th>Nautical_Twilight</th>\n",
              "      <td>3.007869e-03</td>\n",
              "    </tr>\n",
              "    <tr>\n",
              "      <th>Civil_Twilight</th>\n",
              "      <td>3.007869e-03</td>\n",
              "    </tr>\n",
              "    <tr>\n",
              "      <th>Sunrise_Sunset</th>\n",
              "      <td>3.007869e-03</td>\n",
              "    </tr>\n",
              "    <tr>\n",
              "      <th>Astronomical_Twilight</th>\n",
              "      <td>3.007869e-03</td>\n",
              "    </tr>\n",
              "    <tr>\n",
              "      <th>Airport_Code</th>\n",
              "      <td>2.928810e-03</td>\n",
              "    </tr>\n",
              "    <tr>\n",
              "      <th>Street</th>\n",
              "      <td>1.406372e-03</td>\n",
              "    </tr>\n",
              "    <tr>\n",
              "      <th>Timezone</th>\n",
              "      <td>1.010300e-03</td>\n",
              "    </tr>\n",
              "    <tr>\n",
              "      <th>Zipcode</th>\n",
              "      <td>2.477876e-04</td>\n",
              "    </tr>\n",
              "    <tr>\n",
              "      <th>City</th>\n",
              "      <td>3.273643e-05</td>\n",
              "    </tr>\n",
              "    <tr>\n",
              "      <th>Description</th>\n",
              "      <td>6.469649e-07</td>\n",
              "    </tr>\n",
              "    <tr>\n",
              "      <th>Traffic_Signal</th>\n",
              "      <td>0.000000e+00</td>\n",
              "    </tr>\n",
              "    <tr>\n",
              "      <th>Roundabout</th>\n",
              "      <td>0.000000e+00</td>\n",
              "    </tr>\n",
              "    <tr>\n",
              "      <th>Station</th>\n",
              "      <td>0.000000e+00</td>\n",
              "    </tr>\n",
              "    <tr>\n",
              "      <th>Stop</th>\n",
              "      <td>0.000000e+00</td>\n",
              "    </tr>\n",
              "    <tr>\n",
              "      <th>Traffic_Calming</th>\n",
              "      <td>0.000000e+00</td>\n",
              "    </tr>\n",
              "    <tr>\n",
              "      <th>Country</th>\n",
              "      <td>0.000000e+00</td>\n",
              "    </tr>\n",
              "    <tr>\n",
              "      <th>Turning_Loop</th>\n",
              "      <td>0.000000e+00</td>\n",
              "    </tr>\n",
              "    <tr>\n",
              "      <th>No_Exit</th>\n",
              "      <td>0.000000e+00</td>\n",
              "    </tr>\n",
              "    <tr>\n",
              "      <th>End_Time</th>\n",
              "      <td>0.000000e+00</td>\n",
              "    </tr>\n",
              "    <tr>\n",
              "      <th>Start_Time</th>\n",
              "      <td>0.000000e+00</td>\n",
              "    </tr>\n",
              "    <tr>\n",
              "      <th>Severity</th>\n",
              "      <td>0.000000e+00</td>\n",
              "    </tr>\n",
              "    <tr>\n",
              "      <th>Railway</th>\n",
              "      <td>0.000000e+00</td>\n",
              "    </tr>\n",
              "    <tr>\n",
              "      <th>Crossing</th>\n",
              "      <td>0.000000e+00</td>\n",
              "    </tr>\n",
              "    <tr>\n",
              "      <th>Junction</th>\n",
              "      <td>0.000000e+00</td>\n",
              "    </tr>\n",
              "    <tr>\n",
              "      <th>Give_Way</th>\n",
              "      <td>0.000000e+00</td>\n",
              "    </tr>\n",
              "    <tr>\n",
              "      <th>Bump</th>\n",
              "      <td>0.000000e+00</td>\n",
              "    </tr>\n",
              "    <tr>\n",
              "      <th>Amenity</th>\n",
              "      <td>0.000000e+00</td>\n",
              "    </tr>\n",
              "    <tr>\n",
              "      <th>Start_Lat</th>\n",
              "      <td>0.000000e+00</td>\n",
              "    </tr>\n",
              "    <tr>\n",
              "      <th>Start_Lng</th>\n",
              "      <td>0.000000e+00</td>\n",
              "    </tr>\n",
              "    <tr>\n",
              "      <th>Distance(mi)</th>\n",
              "      <td>0.000000e+00</td>\n",
              "    </tr>\n",
              "    <tr>\n",
              "      <th>Source</th>\n",
              "      <td>0.000000e+00</td>\n",
              "    </tr>\n",
              "    <tr>\n",
              "      <th>County</th>\n",
              "      <td>0.000000e+00</td>\n",
              "    </tr>\n",
              "    <tr>\n",
              "      <th>State</th>\n",
              "      <td>0.000000e+00</td>\n",
              "    </tr>\n",
              "    <tr>\n",
              "      <th>ID</th>\n",
              "      <td>0.000000e+00</td>\n",
              "    </tr>\n",
              "  </tbody>\n",
              "</table>\n",
              "</div><br><label><b>dtype:</b> float64</label>"
            ]
          },
          "metadata": {},
          "execution_count": 14
        }
      ]
    },
    {
      "cell_type": "code",
      "source": [],
      "metadata": {
        "id": "37yrTMoO9Th5"
      },
      "execution_count": null,
      "outputs": []
    },
    {
      "cell_type": "code",
      "source": [
        "missing_percentage[missing_percentage != 0]"
      ],
      "metadata": {
        "colab": {
          "base_uri": "https://localhost:8080/",
          "height": 774
        },
        "id": "bcoKld3h8qZ6",
        "outputId": "59f11700-42cf-40b1-df30-82983d7a7b70"
      },
      "execution_count": 15,
      "outputs": [
        {
          "output_type": "execute_result",
          "data": {
            "text/plain": [
              "End_Lat                  4.402935e-01\n",
              "End_Lng                  4.402935e-01\n",
              "Precipitation(in)        2.851286e-01\n",
              "Wind_Chill(F)            2.586590e-01\n",
              "Wind_Speed(mph)          7.391355e-02\n",
              "Visibility(mi)           2.291524e-02\n",
              "Wind_Direction           2.267043e-02\n",
              "Humidity(%)              2.253301e-02\n",
              "Weather_Condition        2.244438e-02\n",
              "Temperature(F)           2.120143e-02\n",
              "Pressure(in)             1.820288e-02\n",
              "Weather_Timestamp        1.555666e-02\n",
              "Nautical_Twilight        3.007869e-03\n",
              "Civil_Twilight           3.007869e-03\n",
              "Sunrise_Sunset           3.007869e-03\n",
              "Astronomical_Twilight    3.007869e-03\n",
              "Airport_Code             2.928810e-03\n",
              "Street                   1.406372e-03\n",
              "Timezone                 1.010300e-03\n",
              "Zipcode                  2.477876e-04\n",
              "City                     3.273643e-05\n",
              "Description              6.469649e-07\n",
              "dtype: float64"
            ],
            "text/html": [
              "<div>\n",
              "<style scoped>\n",
              "    .dataframe tbody tr th:only-of-type {\n",
              "        vertical-align: middle;\n",
              "    }\n",
              "\n",
              "    .dataframe tbody tr th {\n",
              "        vertical-align: top;\n",
              "    }\n",
              "\n",
              "    .dataframe thead th {\n",
              "        text-align: right;\n",
              "    }\n",
              "</style>\n",
              "<table border=\"1\" class=\"dataframe\">\n",
              "  <thead>\n",
              "    <tr style=\"text-align: right;\">\n",
              "      <th></th>\n",
              "      <th>0</th>\n",
              "    </tr>\n",
              "  </thead>\n",
              "  <tbody>\n",
              "    <tr>\n",
              "      <th>End_Lat</th>\n",
              "      <td>4.402935e-01</td>\n",
              "    </tr>\n",
              "    <tr>\n",
              "      <th>End_Lng</th>\n",
              "      <td>4.402935e-01</td>\n",
              "    </tr>\n",
              "    <tr>\n",
              "      <th>Precipitation(in)</th>\n",
              "      <td>2.851286e-01</td>\n",
              "    </tr>\n",
              "    <tr>\n",
              "      <th>Wind_Chill(F)</th>\n",
              "      <td>2.586590e-01</td>\n",
              "    </tr>\n",
              "    <tr>\n",
              "      <th>Wind_Speed(mph)</th>\n",
              "      <td>7.391355e-02</td>\n",
              "    </tr>\n",
              "    <tr>\n",
              "      <th>Visibility(mi)</th>\n",
              "      <td>2.291524e-02</td>\n",
              "    </tr>\n",
              "    <tr>\n",
              "      <th>Wind_Direction</th>\n",
              "      <td>2.267043e-02</td>\n",
              "    </tr>\n",
              "    <tr>\n",
              "      <th>Humidity(%)</th>\n",
              "      <td>2.253301e-02</td>\n",
              "    </tr>\n",
              "    <tr>\n",
              "      <th>Weather_Condition</th>\n",
              "      <td>2.244438e-02</td>\n",
              "    </tr>\n",
              "    <tr>\n",
              "      <th>Temperature(F)</th>\n",
              "      <td>2.120143e-02</td>\n",
              "    </tr>\n",
              "    <tr>\n",
              "      <th>Pressure(in)</th>\n",
              "      <td>1.820288e-02</td>\n",
              "    </tr>\n",
              "    <tr>\n",
              "      <th>Weather_Timestamp</th>\n",
              "      <td>1.555666e-02</td>\n",
              "    </tr>\n",
              "    <tr>\n",
              "      <th>Nautical_Twilight</th>\n",
              "      <td>3.007869e-03</td>\n",
              "    </tr>\n",
              "    <tr>\n",
              "      <th>Civil_Twilight</th>\n",
              "      <td>3.007869e-03</td>\n",
              "    </tr>\n",
              "    <tr>\n",
              "      <th>Sunrise_Sunset</th>\n",
              "      <td>3.007869e-03</td>\n",
              "    </tr>\n",
              "    <tr>\n",
              "      <th>Astronomical_Twilight</th>\n",
              "      <td>3.007869e-03</td>\n",
              "    </tr>\n",
              "    <tr>\n",
              "      <th>Airport_Code</th>\n",
              "      <td>2.928810e-03</td>\n",
              "    </tr>\n",
              "    <tr>\n",
              "      <th>Street</th>\n",
              "      <td>1.406372e-03</td>\n",
              "    </tr>\n",
              "    <tr>\n",
              "      <th>Timezone</th>\n",
              "      <td>1.010300e-03</td>\n",
              "    </tr>\n",
              "    <tr>\n",
              "      <th>Zipcode</th>\n",
              "      <td>2.477876e-04</td>\n",
              "    </tr>\n",
              "    <tr>\n",
              "      <th>City</th>\n",
              "      <td>3.273643e-05</td>\n",
              "    </tr>\n",
              "    <tr>\n",
              "      <th>Description</th>\n",
              "      <td>6.469649e-07</td>\n",
              "    </tr>\n",
              "  </tbody>\n",
              "</table>\n",
              "</div><br><label><b>dtype:</b> float64</label>"
            ]
          },
          "metadata": {},
          "execution_count": 15
        }
      ]
    },
    {
      "cell_type": "code",
      "source": [
        "missing_percentage[missing_percentage != 0].plot(kind='barh')"
      ],
      "metadata": {
        "colab": {
          "base_uri": "https://localhost:8080/",
          "height": 447
        },
        "id": "gZRA6HdW4o4H",
        "outputId": "f0f970d5-be05-4fb8-c2f6-ecbf90af6a85"
      },
      "execution_count": 16,
      "outputs": [
        {
          "output_type": "execute_result",
          "data": {
            "text/plain": [
              "<Axes: >"
            ]
          },
          "metadata": {},
          "execution_count": 16
        },
        {
          "output_type": "display_data",
          "data": {
            "text/plain": [
              "<Figure size 640x480 with 1 Axes>"
            ],
            "image/png": "[encoded data removed]"
          },
          "metadata": {}
        }
      ]
    },
    {
      "cell_type": "markdown",
      "source": [],
      "metadata": {
        "id": "UBTvwfCS-ncl"
      }
    },
    {
      "cell_type": "code",
      "source": [],
      "metadata": {
        "id": "VHvsB0d6_yoL"
      },
      "execution_count": null,
      "outputs": []
    },
    {
      "cell_type": "markdown",
      "source": [
        "## Exploratory Analysis and Visualization\n",
        "\n",
        "Columns we'll analyze:\n",
        "\n",
        "1. City\n",
        "2. Start Time\n",
        "3. Start_Lat & Start_Lng\n",
        "4. Temparature\n",
        "5. Weather Condition"
      ],
      "metadata": {
        "id": "qjDx2gM5AYMl"
      }
    },
    {
      "cell_type": "code",
      "source": [
        "df.columns"
      ],
      "metadata": {
        "colab": {
          "base_uri": "https://localhost:8080/"
        },
        "id": "MhZsRjF6-6RM",
        "outputId": "54c7fa4f-c023-49f2-e200-771702779d5c"
      },
      "execution_count": 18,
      "outputs": [
        {
          "output_type": "execute_result",
          "data": {
            "text/plain": [
              "Index(['ID', 'Source', 'Severity', 'Start_Time', 'End_Time', 'Start_Lat',\n",
              "       'Start_Lng', 'End_Lat', 'End_Lng', 'Distance(mi)', 'Description',\n",
              "       'Street', 'City', 'County', 'State', 'Zipcode', 'Country', 'Timezone',\n",
              "       'Airport_Code', 'Weather_Timestamp', 'Temperature(F)', 'Wind_Chill(F)',\n",
              "       'Humidity(%)', 'Pressure(in)', 'Visibility(mi)', 'Wind_Direction',\n",
              "       'Wind_Speed(mph)', 'Precipitation(in)', 'Weather_Condition', 'Amenity',\n",
              "       'Bump', 'Crossing', 'Give_Way', 'Junction', 'No_Exit', 'Railway',\n",
              "       'Roundabout', 'Station', 'Stop', 'Traffic_Calming', 'Traffic_Signal',\n",
              "       'Turning_Loop', 'Sunrise_Sunset', 'Civil_Twilight', 'Nautical_Twilight',\n",
              "       'Astronomical_Twilight'],\n",
              "      dtype='object')"
            ]
          },
          "metadata": {},
          "execution_count": 18
        }
      ]
    },
    {
      "cell_type": "code",
      "source": [
        "cities= df.City.unique()\n",
        "len(cities)"
      ],
      "metadata": {
        "colab": {
          "base_uri": "https://localhost:8080/"
        },
        "id": "frnwro-hBWpa",
        "outputId": "a215ff6a-6a55-463f-83c5-9f8010308557"
      },
      "execution_count": 17,
      "outputs": [
        {
          "output_type": "execute_result",
          "data": {
            "text/plain": [
              "13679"
            ]
          },
          "metadata": {},
          "execution_count": 17
        }
      ]
    },
    {
      "cell_type": "code",
      "source": [
        "cities_by_accident = df.City.value_counts()\n",
        "cities_by_accident"
      ],
      "metadata": {
        "colab": {
          "base_uri": "https://localhost:8080/",
          "height": 490
        },
        "id": "9wUX_x7lCDmu",
        "outputId": "123bf2e6-2f5d-4770-d4ef-9c1a6020d035"
      },
      "execution_count": 18,
      "outputs": [
        {
          "output_type": "execute_result",
          "data": {
            "text/plain": [
              "City\n",
              "Miami                           186917\n",
              "Houston                         169609\n",
              "Los Angeles                     156491\n",
              "Charlotte                       138652\n",
              "Dallas                          130939\n",
              "                                 ...  \n",
              "Benkelman                            1\n",
              "Old Appleton                         1\n",
              "Wildrose                             1\n",
              "Mc Nabb                              1\n",
              "American Fork-Pleasant Grove         1\n",
              "Name: count, Length: 13678, dtype: int64"
            ],
            "text/html": [
              "<div>\n",
              "<style scoped>\n",
              "    .dataframe tbody tr th:only-of-type {\n",
              "        vertical-align: middle;\n",
              "    }\n",
              "\n",
              "    .dataframe tbody tr th {\n",
              "        vertical-align: top;\n",
              "    }\n",
              "\n",
              "    .dataframe thead th {\n",
              "        text-align: right;\n",
              "    }\n",
              "</style>\n",
              "<table border=\"1\" class=\"dataframe\">\n",
              "  <thead>\n",
              "    <tr style=\"text-align: right;\">\n",
              "      <th></th>\n",
              "      <th>count</th>\n",
              "    </tr>\n",
              "    <tr>\n",
              "      <th>City</th>\n",
              "      <th></th>\n",
              "    </tr>\n",
              "  </thead>\n",
              "  <tbody>\n",
              "    <tr>\n",
              "      <th>Miami</th>\n",
              "      <td>186917</td>\n",
              "    </tr>\n",
              "    <tr>\n",
              "      <th>Houston</th>\n",
              "      <td>169609</td>\n",
              "    </tr>\n",
              "    <tr>\n",
              "      <th>Los Angeles</th>\n",
              "      <td>156491</td>\n",
              "    </tr>\n",
              "    <tr>\n",
              "      <th>Charlotte</th>\n",
              "      <td>138652</td>\n",
              "    </tr>\n",
              "    <tr>\n",
              "      <th>Dallas</th>\n",
              "      <td>130939</td>\n",
              "    </tr>\n",
              "    <tr>\n",
              "      <th>...</th>\n",
              "      <td>...</td>\n",
              "    </tr>\n",
              "    <tr>\n",
              "      <th>Benkelman</th>\n",
              "      <td>1</td>\n",
              "    </tr>\n",
              "    <tr>\n",
              "      <th>Old Appleton</th>\n",
              "      <td>1</td>\n",
              "    </tr>\n",
              "    <tr>\n",
              "      <th>Wildrose</th>\n",
              "      <td>1</td>\n",
              "    </tr>\n",
              "    <tr>\n",
              "      <th>Mc Nabb</th>\n",
              "      <td>1</td>\n",
              "    </tr>\n",
              "    <tr>\n",
              "      <th>American Fork-Pleasant Grove</th>\n",
              "      <td>1</td>\n",
              "    </tr>\n",
              "  </tbody>\n",
              "</table>\n",
              "<p>13678 rows × 1 columns</p>\n",
              "</div><br><label><b>dtype:</b> int64</label>"
            ]
          },
          "metadata": {},
          "execution_count": 18
        }
      ]
    },
    {
      "cell_type": "code",
      "source": [
        "cities_by_accident[:20]"
      ],
      "metadata": {
        "colab": {
          "base_uri": "https://localhost:8080/",
          "height": 743
        },
        "id": "nFvzqLCZDX3o",
        "outputId": "0616595a-4246-464e-cb87-924ea6d31352"
      },
      "execution_count": 19,
      "outputs": [
        {
          "output_type": "execute_result",
          "data": {
            "text/plain": [
              "City\n",
              "Miami            186917\n",
              "Houston          169609\n",
              "Los Angeles      156491\n",
              "Charlotte        138652\n",
              "Dallas           130939\n",
              "Orlando          109733\n",
              "Austin            97359\n",
              "Raleigh           86079\n",
              "Nashville         72930\n",
              "Baton Rouge       71588\n",
              "Atlanta           68186\n",
              "Sacramento        66264\n",
              "San Diego         55504\n",
              "Phoenix           53974\n",
              "Minneapolis       51488\n",
              "Richmond          48845\n",
              "Oklahoma City     46092\n",
              "Jacksonville      42447\n",
              "Tucson            39304\n",
              "Columbia          38178\n",
              "Name: count, dtype: int64"
            ],
            "text/html": [
              "<div>\n",
              "<style scoped>\n",
              "    .dataframe tbody tr th:only-of-type {\n",
              "        vertical-align: middle;\n",
              "    }\n",
              "\n",
              "    .dataframe tbody tr th {\n",
              "        vertical-align: top;\n",
              "    }\n",
              "\n",
              "    .dataframe thead th {\n",
              "        text-align: right;\n",
              "    }\n",
              "</style>\n",
              "<table border=\"1\" class=\"dataframe\">\n",
              "  <thead>\n",
              "    <tr style=\"text-align: right;\">\n",
              "      <th></th>\n",
              "      <th>count</th>\n",
              "    </tr>\n",
              "    <tr>\n",
              "      <th>City</th>\n",
              "      <th></th>\n",
              "    </tr>\n",
              "  </thead>\n",
              "  <tbody>\n",
              "    <tr>\n",
              "      <th>Miami</th>\n",
              "      <td>186917</td>\n",
              "    </tr>\n",
              "    <tr>\n",
              "      <th>Houston</th>\n",
              "      <td>169609</td>\n",
              "    </tr>\n",
              "    <tr>\n",
              "      <th>Los Angeles</th>\n",
              "      <td>156491</td>\n",
              "    </tr>\n",
              "    <tr>\n",
              "      <th>Charlotte</th>\n",
              "      <td>138652</td>\n",
              "    </tr>\n",
              "    <tr>\n",
              "      <th>Dallas</th>\n",
              "      <td>130939</td>\n",
              "    </tr>\n",
              "    <tr>\n",
              "      <th>Orlando</th>\n",
              "      <td>109733</td>\n",
              "    </tr>\n",
              "    <tr>\n",
              "      <th>Austin</th>\n",
              "      <td>97359</td>\n",
              "    </tr>\n",
              "    <tr>\n",
              "      <th>Raleigh</th>\n",
              "      <td>86079</td>\n",
              "    </tr>\n",
              "    <tr>\n",
              "      <th>Nashville</th>\n",
              "      <td>72930</td>\n",
              "    </tr>\n",
              "    <tr>\n",
              "      <th>Baton Rouge</th>\n",
              "      <td>71588</td>\n",
              "    </tr>\n",
              "    <tr>\n",
              "      <th>Atlanta</th>\n",
              "      <td>68186</td>\n",
              "    </tr>\n",
              "    <tr>\n",
              "      <th>Sacramento</th>\n",
              "      <td>66264</td>\n",
              "    </tr>\n",
              "    <tr>\n",
              "      <th>San Diego</th>\n",
              "      <td>55504</td>\n",
              "    </tr>\n",
              "    <tr>\n",
              "      <th>Phoenix</th>\n",
              "      <td>53974</td>\n",
              "    </tr>\n",
              "    <tr>\n",
              "      <th>Minneapolis</th>\n",
              "      <td>51488</td>\n",
              "    </tr>\n",
              "    <tr>\n",
              "      <th>Richmond</th>\n",
              "      <td>48845</td>\n",
              "    </tr>\n",
              "    <tr>\n",
              "      <th>Oklahoma City</th>\n",
              "      <td>46092</td>\n",
              "    </tr>\n",
              "    <tr>\n",
              "      <th>Jacksonville</th>\n",
              "      <td>42447</td>\n",
              "    </tr>\n",
              "    <tr>\n",
              "      <th>Tucson</th>\n",
              "      <td>39304</td>\n",
              "    </tr>\n",
              "    <tr>\n",
              "      <th>Columbia</th>\n",
              "      <td>38178</td>\n",
              "    </tr>\n",
              "  </tbody>\n",
              "</table>\n",
              "</div><br><label><b>dtype:</b> int64</label>"
            ]
          },
          "metadata": {},
          "execution_count": 19
        }
      ]
    },
    {
      "cell_type": "code",
      "source": [
        "type(cities_by_accident)"
      ],
      "metadata": {
        "colab": {
          "base_uri": "https://localhost:8080/",
          "height": 204
        },
        "id": "2EHPPIb7GjLl",
        "outputId": "0632729e-d1a5-4d3c-ddf4-b4bb14c627a3"
      },
      "execution_count": 20,
      "outputs": [
        {
          "output_type": "execute_result",
          "data": {
            "text/plain": [
              "pandas.core.series.Series"
            ],
            "text/html": [
              "<div style=\"max-width:800px; border: 1px solid var(--colab-border-color);\"><style>\n",
              "      pre.function-repr-contents {\n",
              "        overflow-x: auto;\n",
              "        padding: 8px 12px;\n",
              "        max-height: 500px;\n",
              "      }\n",
              "\n",
              "      pre.function-repr-contents.function-repr-contents-collapsed {\n",
              "        cursor: pointer;\n",
              "        max-height: 100px;\n",
              "      }\n",
              "    </style>\n",
              "    <pre style=\"white-space: initial; background:\n",
              "         var(--colab-secondary-surface-color); padding: 8px 12px;\n",
              "         border-bottom: 1px solid var(--colab-border-color);\"><b>pandas.core.series.Series</b><br/>def __init__(data=None, index=None, dtype: Dtype | None=None, name=None, copy: bool | None=None, fastpath: bool | lib.NoDefault=lib.no_default) -&gt; None</pre><pre class=\"function-repr-contents function-repr-contents-collapsed\" style=\"\"><a class=\"filepath\" style=\"display:none\" href=\"#\">/usr/local/lib/python3.11/dist-packages/pandas/core/series.py</a>One-dimensional ndarray with axis labels (including time series).\n",
              "\n",
              "Labels need not be unique but must be a hashable type. The object\n",
              "supports both integer- and label-based indexing and provides a host of\n",
              "methods for performing operations involving the index. Statistical\n",
              "methods from ndarray have been overridden to automatically exclude\n",
              "missing data (currently represented as NaN).\n",
              "\n",
              "Operations between Series (+, -, /, \\*, \\*\\*) align values based on their\n",
              "associated index values-- they need not be the same length. The result\n",
              "index will be the sorted union of the two indexes.\n",
              "\n",
              "Parameters\n",
              "----------\n",
              "data : array-like, Iterable, dict, or scalar value\n",
              "    Contains data stored in Series. If data is a dict, argument order is\n",
              "    maintained.\n",
              "index : array-like or Index (1d)\n",
              "    Values must be hashable and have the same length as `data`.\n",
              "    Non-unique index values are allowed. Will default to\n",
              "    RangeIndex (0, 1, 2, ..., n) if not provided. If data is dict-like\n",
              "    and index is None, then the keys in the data are used as the index. If the\n",
              "    index is not None, the resulting Series is reindexed with the index values.\n",
              "dtype : str, numpy.dtype, or ExtensionDtype, optional\n",
              "    Data type for the output Series. If not specified, this will be\n",
              "    inferred from `data`.\n",
              "    See the :ref:`user guide &lt;basics.dtypes&gt;` for more usages.\n",
              "name : Hashable, default None\n",
              "    The name to give to the Series.\n",
              "copy : bool, default False\n",
              "    Copy input data. Only affects Series or 1d ndarray input. See examples.\n",
              "\n",
              "Notes\n",
              "-----\n",
              "Please reference the :ref:`User Guide &lt;basics.series&gt;` for more information.\n",
              "\n",
              "Examples\n",
              "--------\n",
              "Constructing Series from a dictionary with an Index specified\n",
              "\n",
              "&gt;&gt;&gt; d = {&#x27;a&#x27;: 1, &#x27;b&#x27;: 2, &#x27;c&#x27;: 3}\n",
              "&gt;&gt;&gt; ser = pd.Series(data=d, index=[&#x27;a&#x27;, &#x27;b&#x27;, &#x27;c&#x27;])\n",
              "&gt;&gt;&gt; ser\n",
              "a   1\n",
              "b   2\n",
              "c   3\n",
              "dtype: int64\n",
              "\n",
              "The keys of the dictionary match with the Index values, hence the Index\n",
              "values have no effect.\n",
              "\n",
              "&gt;&gt;&gt; d = {&#x27;a&#x27;: 1, &#x27;b&#x27;: 2, &#x27;c&#x27;: 3}\n",
              "&gt;&gt;&gt; ser = pd.Series(data=d, index=[&#x27;x&#x27;, &#x27;y&#x27;, &#x27;z&#x27;])\n",
              "&gt;&gt;&gt; ser\n",
              "x   NaN\n",
              "y   NaN\n",
              "z   NaN\n",
              "dtype: float64\n",
              "\n",
              "Note that the Index is first build with the keys from the dictionary.\n",
              "After this the Series is reindexed with the given Index values, hence we\n",
              "get all NaN as a result.\n",
              "\n",
              "Constructing Series from a list with `copy=False`.\n",
              "\n",
              "&gt;&gt;&gt; r = [1, 2]\n",
              "&gt;&gt;&gt; ser = pd.Series(r, copy=False)\n",
              "&gt;&gt;&gt; ser.iloc[0] = 999\n",
              "&gt;&gt;&gt; r\n",
              "[1, 2]\n",
              "&gt;&gt;&gt; ser\n",
              "0    999\n",
              "1      2\n",
              "dtype: int64\n",
              "\n",
              "Due to input data type the Series has a `copy` of\n",
              "the original data even though `copy=False`, so\n",
              "the data is unchanged.\n",
              "\n",
              "Constructing Series from a 1d ndarray with `copy=False`.\n",
              "\n",
              "&gt;&gt;&gt; r = np.array([1, 2])\n",
              "&gt;&gt;&gt; ser = pd.Series(r, copy=False)\n",
              "&gt;&gt;&gt; ser.iloc[0] = 999\n",
              "&gt;&gt;&gt; r\n",
              "array([999,   2])\n",
              "&gt;&gt;&gt; ser\n",
              "0    999\n",
              "1      2\n",
              "dtype: int64\n",
              "\n",
              "Due to input data type the Series has a `view` on\n",
              "the original data, so\n",
              "the data is changed as well.</pre>\n",
              "      <script>\n",
              "      if (google.colab.kernel.accessAllowed && google.colab.files && google.colab.files.view) {\n",
              "        for (const element of document.querySelectorAll('.filepath')) {\n",
              "          element.style.display = 'block'\n",
              "          element.onclick = (event) => {\n",
              "            event.preventDefault();\n",
              "            event.stopPropagation();\n",
              "            google.colab.files.view(element.textContent, 263);\n",
              "          };\n",
              "        }\n",
              "      }\n",
              "      for (const element of document.querySelectorAll('.function-repr-contents')) {\n",
              "        element.onclick = (event) => {\n",
              "          event.preventDefault();\n",
              "          event.stopPropagation();\n",
              "          element.classList.toggle('function-repr-contents-collapsed');\n",
              "        };\n",
              "      }\n",
              "      </script>\n",
              "      </div>"
            ]
          },
          "metadata": {},
          "execution_count": 20
        }
      ]
    },
    {
      "cell_type": "code",
      "source": [
        "cities_by_accident[:20].plot(kind='barh')"
      ],
      "metadata": {
        "colab": {
          "base_uri": "https://localhost:8080/",
          "height": 447
        },
        "id": "5fNbi4ZAD4Bd",
        "outputId": "b8a441aa-2b90-4e52-f835-6bf39112b58a"
      },
      "execution_count": 21,
      "outputs": [
        {
          "output_type": "execute_result",
          "data": {
            "text/plain": [
              "<Axes: ylabel='City'>"
            ]
          },
          "metadata": {},
          "execution_count": 21
        },
        {
          "output_type": "display_data",
          "data": {
            "text/plain": [
              "<Figure size 640x480 with 1 Axes>"
            ],
            "image/png": "[encoded data removed]"
          },
          "metadata": {}
        }
      ]
    },
    {
      "cell_type": "code",
      "source": [
        "import seaborn as sns\n",
        "sns.set_style(\"darkgrid\")"
      ],
      "metadata": {
        "id": "VWJAM-XZFsDc"
      },
      "execution_count": 22,
      "outputs": []
    },
    {
      "cell_type": "code",
      "source": [
        "sns.distplot(cities_by_accident)"
      ],
      "metadata": {
        "colab": {
          "base_uri": "https://localhost:8080/",
          "height": 657
        },
        "id": "592ovah1Gta9",
        "outputId": "d19317c5-ce6f-4428-98f3-942bae8c56b7"
      },
      "execution_count": 23,
      "outputs": [
        {
          "output_type": "stream",
          "name": "stderr",
          "text": [
            "<ipython-input-23-1f460903cad6>:1: UserWarning: \n",
            "\n",
            "`distplot` is a deprecated function and will be removed in seaborn v0.14.0.\n",
            "\n",
            "Please adapt your code to use either `displot` (a figure-level function with\n",
            "similar flexibility) or `histplot` (an axes-level function for histograms).\n",
            "\n",
            "For a guide to updating your code to use the new functions, please see\n",
            "https://gist.github.com/mwaskom/de44147ed2974457ad6372750bbe5751\n",
            "\n",
            "  sns.distplot(cities_by_accident)\n"
          ]
        },
        {
          "output_type": "execute_result",
          "data": {
            "text/plain": [
              "<Axes: xlabel='count', ylabel='Density'>"
            ]
          },
          "metadata": {},
          "execution_count": 23
        },
        {
          "output_type": "display_data",
          "data": {
            "text/plain": [
              "<Figure size 640x480 with 1 Axes>"
            ],
            "image/png": "[encoded data removed]"
          },
          "metadata": {}
        }
      ]
    },
    {
      "cell_type": "code",
      "source": [
        "  df.Start_Time"
      ],
      "metadata": {
        "colab": {
          "base_uri": "https://localhost:8080/",
          "height": 458
        },
        "id": "Tql_tuKSHs5B",
        "outputId": "99a08a7a-6bfa-4108-9544-17e0169e5278"
      },
      "execution_count": 24,
      "outputs": [
        {
          "output_type": "execute_result",
          "data": {
            "text/plain": [
              "0          2016-02-08 05:46:00\n",
              "1          2016-02-08 06:07:59\n",
              "2          2016-02-08 06:49:27\n",
              "3          2016-02-08 07:23:34\n",
              "4          2016-02-08 07:39:07\n",
              "                  ...         \n",
              "7728389    2019-08-23 18:03:25\n",
              "7728390    2019-08-23 19:11:30\n",
              "7728391    2019-08-23 19:00:21\n",
              "7728392    2019-08-23 19:00:21\n",
              "7728393    2019-08-23 18:52:06\n",
              "Name: Start_Time, Length: 7728394, dtype: object"
            ],
            "text/html": [
              "<div>\n",
              "<style scoped>\n",
              "    .dataframe tbody tr th:only-of-type {\n",
              "        vertical-align: middle;\n",
              "    }\n",
              "\n",
              "    .dataframe tbody tr th {\n",
              "        vertical-align: top;\n",
              "    }\n",
              "\n",
              "    .dataframe thead th {\n",
              "        text-align: right;\n",
              "    }\n",
              "</style>\n",
              "<table border=\"1\" class=\"dataframe\">\n",
              "  <thead>\n",
              "    <tr style=\"text-align: right;\">\n",
              "      <th></th>\n",
              "      <th>Start_Time</th>\n",
              "    </tr>\n",
              "  </thead>\n",
              "  <tbody>\n",
              "    <tr>\n",
              "      <th>0</th>\n",
              "      <td>2016-02-08 05:46:00</td>\n",
              "    </tr>\n",
              "    <tr>\n",
              "      <th>1</th>\n",
              "      <td>2016-02-08 06:07:59</td>\n",
              "    </tr>\n",
              "    <tr>\n",
              "      <th>2</th>\n",
              "      <td>2016-02-08 06:49:27</td>\n",
              "    </tr>\n",
              "    <tr>\n",
              "      <th>3</th>\n",
              "      <td>2016-02-08 07:23:34</td>\n",
              "    </tr>\n",
              "    <tr>\n",
              "      <th>4</th>\n",
              "      <td>2016-02-08 07:39:07</td>\n",
              "    </tr>\n",
              "    <tr>\n",
              "      <th>...</th>\n",
              "      <td>...</td>\n",
              "    </tr>\n",
              "    <tr>\n",
              "      <th>7728389</th>\n",
              "      <td>2019-08-23 18:03:25</td>\n",
              "    </tr>\n",
              "    <tr>\n",
              "      <th>7728390</th>\n",
              "      <td>2019-08-23 19:11:30</td>\n",
              "    </tr>\n",
              "    <tr>\n",
              "      <th>7728391</th>\n",
              "      <td>2019-08-23 19:00:21</td>\n",
              "    </tr>\n",
              "    <tr>\n",
              "      <th>7728392</th>\n",
              "      <td>2019-08-23 19:00:21</td>\n",
              "    </tr>\n",
              "    <tr>\n",
              "      <th>7728393</th>\n",
              "      <td>2019-08-23 18:52:06</td>\n",
              "    </tr>\n",
              "  </tbody>\n",
              "</table>\n",
              "<p>7728394 rows × 1 columns</p>\n",
              "</div><br><label><b>dtype:</b> object</label>"
            ]
          },
          "metadata": {},
          "execution_count": 24
        }
      ]
    },
    {
      "cell_type": "code",
      "source": [
        "df['Start_Time'] = pd.to_datetime(df['Start_Time'], format='ISO8601', errors='coerce')\n",
        "df['Start_Time']"
      ],
      "metadata": {
        "colab": {
          "base_uri": "https://localhost:8080/",
          "height": 458
        },
        "id": "nl14CJbgajvU",
        "outputId": "33a06d70-98d5-4b8e-8263-b0209f7f3df7"
      },
      "execution_count": 25,
      "outputs": [
        {
          "output_type": "execute_result",
          "data": {
            "text/plain": [
              "0         2016-02-08 05:46:00\n",
              "1         2016-02-08 06:07:59\n",
              "2         2016-02-08 06:49:27\n",
              "3         2016-02-08 07:23:34\n",
              "4         2016-02-08 07:39:07\n",
              "                  ...        \n",
              "7728389   2019-08-23 18:03:25\n",
              "7728390   2019-08-23 19:11:30\n",
              "7728391   2019-08-23 19:00:21\n",
              "7728392   2019-08-23 19:00:21\n",
              "7728393   2019-08-23 18:52:06\n",
              "Name: Start_Time, Length: 7728394, dtype: datetime64[ns]"
            ],
            "text/html": [
              "<div>\n",
              "<style scoped>\n",
              "    .dataframe tbody tr th:only-of-type {\n",
              "        vertical-align: middle;\n",
              "    }\n",
              "\n",
              "    .dataframe tbody tr th {\n",
              "        vertical-align: top;\n",
              "    }\n",
              "\n",
              "    .dataframe thead th {\n",
              "        text-align: right;\n",
              "    }\n",
              "</style>\n",
              "<table border=\"1\" class=\"dataframe\">\n",
              "  <thead>\n",
              "    <tr style=\"text-align: right;\">\n",
              "      <th></th>\n",
              "      <th>Start_Time</th>\n",
              "    </tr>\n",
              "  </thead>\n",
              "  <tbody>\n",
              "    <tr>\n",
              "      <th>0</th>\n",
              "      <td>2016-02-08 05:46:00</td>\n",
              "    </tr>\n",
              "    <tr>\n",
              "      <th>1</th>\n",
              "      <td>2016-02-08 06:07:59</td>\n",
              "    </tr>\n",
              "    <tr>\n",
              "      <th>2</th>\n",
              "      <td>2016-02-08 06:49:27</td>\n",
              "    </tr>\n",
              "    <tr>\n",
              "      <th>3</th>\n",
              "      <td>2016-02-08 07:23:34</td>\n",
              "    </tr>\n",
              "    <tr>\n",
              "      <th>4</th>\n",
              "      <td>2016-02-08 07:39:07</td>\n",
              "    </tr>\n",
              "    <tr>\n",
              "      <th>...</th>\n",
              "      <td>...</td>\n",
              "    </tr>\n",
              "    <tr>\n",
              "      <th>7728389</th>\n",
              "      <td>2019-08-23 18:03:25</td>\n",
              "    </tr>\n",
              "    <tr>\n",
              "      <th>7728390</th>\n",
              "      <td>2019-08-23 19:11:30</td>\n",
              "    </tr>\n",
              "    <tr>\n",
              "      <th>7728391</th>\n",
              "      <td>2019-08-23 19:00:21</td>\n",
              "    </tr>\n",
              "    <tr>\n",
              "      <th>7728392</th>\n",
              "      <td>2019-08-23 19:00:21</td>\n",
              "    </tr>\n",
              "    <tr>\n",
              "      <th>7728393</th>\n",
              "      <td>2019-08-23 18:52:06</td>\n",
              "    </tr>\n",
              "  </tbody>\n",
              "</table>\n",
              "<p>7728394 rows × 1 columns</p>\n",
              "</div><br><label><b>dtype:</b> datetime64[ns]</label>"
            ]
          },
          "metadata": {},
          "execution_count": 25
        }
      ]
    },
    {
      "cell_type": "code",
      "source": [
        "sns.histplot(df.Start_Time.dt.hour,bins=24)"
      ],
      "metadata": {
        "colab": {
          "base_uri": "https://localhost:8080/",
          "height": 467
        },
        "id": "YY6vNGADYb4P",
        "outputId": "5288f6b1-f6f2-4da7-eaa2-4afbba773d91"
      },
      "execution_count": 26,
      "outputs": [
        {
          "output_type": "execute_result",
          "data": {
            "text/plain": [
              "<Axes: xlabel='Start_Time', ylabel='Count'>"
            ]
          },
          "metadata": {},
          "execution_count": 26
        },
        {
          "output_type": "display_data",
          "data": {
            "text/plain": [
              "<Figure size 640x480 with 1 Axes>"
            ],
            "image/png": "[encoded data removed]"
          },
          "metadata": {}
        }
      ]
    },
    {
      "cell_type": "markdown",
      "source": [
        "- A most accidents happen between 6 to 10AM."
      ],
      "metadata": {
        "id": "jtuN-xOxlPPB"
      }
    },
    {
      "cell_type": "code",
      "source": [
        "df.Start_Time.dt.year"
      ],
      "metadata": {
        "colab": {
          "base_uri": "https://localhost:8080/",
          "height": 458
        },
        "id": "TYd99j4YCaSg",
        "outputId": "6c15b1bb-30fc-49b9-b056-98f6e75ed795"
      },
      "execution_count": 25,
      "outputs": [
        {
          "output_type": "execute_result",
          "data": {
            "text/plain": [
              "0          2016\n",
              "1          2016\n",
              "2          2016\n",
              "3          2016\n",
              "4          2016\n",
              "           ... \n",
              "7728389    2019\n",
              "7728390    2019\n",
              "7728391    2019\n",
              "7728392    2019\n",
              "7728393    2019\n",
              "Name: Start_Time, Length: 7728394, dtype: int32"
            ],
            "text/html": [
              "<div>\n",
              "<style scoped>\n",
              "    .dataframe tbody tr th:only-of-type {\n",
              "        vertical-align: middle;\n",
              "    }\n",
              "\n",
              "    .dataframe tbody tr th {\n",
              "        vertical-align: top;\n",
              "    }\n",
              "\n",
              "    .dataframe thead th {\n",
              "        text-align: right;\n",
              "    }\n",
              "</style>\n",
              "<table border=\"1\" class=\"dataframe\">\n",
              "  <thead>\n",
              "    <tr style=\"text-align: right;\">\n",
              "      <th></th>\n",
              "      <th>Start_Time</th>\n",
              "    </tr>\n",
              "  </thead>\n",
              "  <tbody>\n",
              "    <tr>\n",
              "      <th>0</th>\n",
              "      <td>2016</td>\n",
              "    </tr>\n",
              "    <tr>\n",
              "      <th>1</th>\n",
              "      <td>2016</td>\n",
              "    </tr>\n",
              "    <tr>\n",
              "      <th>2</th>\n",
              "      <td>2016</td>\n",
              "    </tr>\n",
              "    <tr>\n",
              "      <th>3</th>\n",
              "      <td>2016</td>\n",
              "    </tr>\n",
              "    <tr>\n",
              "      <th>4</th>\n",
              "      <td>2016</td>\n",
              "    </tr>\n",
              "    <tr>\n",
              "      <th>...</th>\n",
              "      <td>...</td>\n",
              "    </tr>\n",
              "    <tr>\n",
              "      <th>7728389</th>\n",
              "      <td>2019</td>\n",
              "    </tr>\n",
              "    <tr>\n",
              "      <th>7728390</th>\n",
              "      <td>2019</td>\n",
              "    </tr>\n",
              "    <tr>\n",
              "      <th>7728391</th>\n",
              "      <td>2019</td>\n",
              "    </tr>\n",
              "    <tr>\n",
              "      <th>7728392</th>\n",
              "      <td>2019</td>\n",
              "    </tr>\n",
              "    <tr>\n",
              "      <th>7728393</th>\n",
              "      <td>2019</td>\n",
              "    </tr>\n",
              "  </tbody>\n",
              "</table>\n",
              "<p>7728394 rows × 1 columns</p>\n",
              "</div><br><label><b>dtype:</b> int32</label>"
            ]
          },
          "metadata": {},
          "execution_count": 25
        }
      ]
    },
    {
      "cell_type": "code",
      "source": [
        "df_2019=df[df.Start_Time.dt.year == 2019]\n",
        "sns.distplot(df_2019.Start_Time.dt.month,bins=7,kde=False, norm_hist=True)"
      ],
      "metadata": {
        "colab": {
          "base_uri": "https://localhost:8080/",
          "height": 658
        },
        "id": "X6XPdBZMjv8D",
        "outputId": "92c84b34-da4b-4325-ec78-1074e6c42615"
      },
      "execution_count": 27,
      "outputs": [
        {
          "output_type": "stream",
          "name": "stderr",
          "text": [
            "<ipython-input-27-779eedad9e59>:2: UserWarning: \n",
            "\n",
            "`distplot` is a deprecated function and will be removed in seaborn v0.14.0.\n",
            "\n",
            "Please adapt your code to use either `displot` (a figure-level function with\n",
            "similar flexibility) or `histplot` (an axes-level function for histograms).\n",
            "\n",
            "For a guide to updating your code to use the new functions, please see\n",
            "https://gist.github.com/mwaskom/de44147ed2974457ad6372750bbe5751\n",
            "\n",
            "  sns.distplot(df_2019.Start_Time.dt.month,bins=7,kde=False, norm_hist=True)\n"
          ]
        },
        {
          "output_type": "execute_result",
          "data": {
            "text/plain": [
              "<Axes: xlabel='Start_Time'>"
            ]
          },
          "metadata": {},
          "execution_count": 27
        },
        {
          "output_type": "display_data",
          "data": {
            "text/plain": [
              "<Figure size 640x480 with 1 Axes>"
            ],
            "image/png": "[encoded data removed]"
          },
          "metadata": {}
        }
      ]
    },
    {
      "cell_type": "markdown",
      "source": [
        "Is the distribution of accidents by hour the same on weekends as on weekdays?"
      ],
      "metadata": {
        "id": "4hK15rxgpqJR"
      }
    },
    {
      "cell_type": "code",
      "source": [
        "df.Source.value_counts().plot(kind='pie')"
      ],
      "metadata": {
        "colab": {
          "base_uri": "https://localhost:8080/",
          "height": 423
        },
        "id": "knlCShLip3HV",
        "outputId": "446afcdc-e4ae-4260-ce85-b430b36cf3bc"
      },
      "execution_count": 28,
      "outputs": [
        {
          "output_type": "execute_result",
          "data": {
            "text/plain": [
              "<Axes: ylabel='count'>"
            ]
          },
          "metadata": {},
          "execution_count": 28
        },
        {
          "output_type": "display_data",
          "data": {
            "text/plain": [
              "<Figure size 640x480 with 1 Axes>"
            ],
            "image/png": "[encoded data removed]"
          },
          "metadata": {}
        }
      ]
    },
    {
      "cell_type": "code",
      "source": [
        "## Start Latitude & Longitude"
      ],
      "metadata": {
        "id": "KO7skVPOEHKP"
      },
      "execution_count": null,
      "outputs": []
    },
    {
      "cell_type": "code",
      "source": [
        "df.Start_Lng"
      ],
      "metadata": {
        "colab": {
          "base_uri": "https://localhost:8080/",
          "height": 458
        },
        "id": "4qZFgYqxEN8w",
        "outputId": "4c9ebbde-d8b9-460f-dfff-a1cf2f811b82"
      },
      "execution_count": 29,
      "outputs": [
        {
          "output_type": "execute_result",
          "data": {
            "text/plain": [
              "0          -84.058723\n",
              "1          -82.831184\n",
              "2          -84.032608\n",
              "3          -84.205582\n",
              "4          -84.188354\n",
              "              ...    \n",
              "7728389   -117.379360\n",
              "7728390   -117.148060\n",
              "7728391   -117.847790\n",
              "7728392   -118.403020\n",
              "7728393   -117.230920\n",
              "Name: Start_Lng, Length: 7728394, dtype: float64"
            ],
            "text/html": [
              "<div>\n",
              "<style scoped>\n",
              "    .dataframe tbody tr th:only-of-type {\n",
              "        vertical-align: middle;\n",
              "    }\n",
              "\n",
              "    .dataframe tbody tr th {\n",
              "        vertical-align: top;\n",
              "    }\n",
              "\n",
              "    .dataframe thead th {\n",
              "        text-align: right;\n",
              "    }\n",
              "</style>\n",
              "<table border=\"1\" class=\"dataframe\">\n",
              "  <thead>\n",
              "    <tr style=\"text-align: right;\">\n",
              "      <th></th>\n",
              "      <th>Start_Lng</th>\n",
              "    </tr>\n",
              "  </thead>\n",
              "  <tbody>\n",
              "    <tr>\n",
              "      <th>0</th>\n",
              "      <td>-84.058723</td>\n",
              "    </tr>\n",
              "    <tr>\n",
              "      <th>1</th>\n",
              "      <td>-82.831184</td>\n",
              "    </tr>\n",
              "    <tr>\n",
              "      <th>2</th>\n",
              "      <td>-84.032608</td>\n",
              "    </tr>\n",
              "    <tr>\n",
              "      <th>3</th>\n",
              "      <td>-84.205582</td>\n",
              "    </tr>\n",
              "    <tr>\n",
              "      <th>4</th>\n",
              "      <td>-84.188354</td>\n",
              "    </tr>\n",
              "    <tr>\n",
              "      <th>...</th>\n",
              "      <td>...</td>\n",
              "    </tr>\n",
              "    <tr>\n",
              "      <th>7728389</th>\n",
              "      <td>-117.379360</td>\n",
              "    </tr>\n",
              "    <tr>\n",
              "      <th>7728390</th>\n",
              "      <td>-117.148060</td>\n",
              "    </tr>\n",
              "    <tr>\n",
              "      <th>7728391</th>\n",
              "      <td>-117.847790</td>\n",
              "    </tr>\n",
              "    <tr>\n",
              "      <th>7728392</th>\n",
              "      <td>-118.403020</td>\n",
              "    </tr>\n",
              "    <tr>\n",
              "      <th>7728393</th>\n",
              "      <td>-117.230920</td>\n",
              "    </tr>\n",
              "  </tbody>\n",
              "</table>\n",
              "<p>7728394 rows × 1 columns</p>\n",
              "</div><br><label><b>dtype:</b> float64</label>"
            ]
          },
          "metadata": {},
          "execution_count": 29
        }
      ]
    },
    {
      "cell_type": "code",
      "source": [
        "sns.scatterplot(x=df.Start_Lng,y=df.Start_Lat)"
      ],
      "metadata": {
        "colab": {
          "base_uri": "https://localhost:8080/",
          "height": 469
        },
        "id": "sXlGG8hVEW7f",
        "outputId": "a4b00183-8e54-4516-aa7f-dce2a9b23e88"
      },
      "execution_count": 30,
      "outputs": [
        {
          "output_type": "execute_result",
          "data": {
            "text/plain": [
              "<Axes: xlabel='Start_Lng', ylabel='Start_Lat'>"
            ]
          },
          "metadata": {},
          "execution_count": 30
        },
        {
          "output_type": "display_data",
          "data": {
            "text/plain": [
              "<Figure size 640x480 with 1 Axes>"
            ],
            "image/png": "[encoded data removed]"
          },
          "metadata": {}
        }
      ]
    },
    {
      "cell_type": "code",
      "source": [
        "import folium"
      ],
      "metadata": {
        "id": "paAgLqCAIyR_"
      },
      "execution_count": 31,
      "outputs": []
    },
    {
      "cell_type": "code",
      "source": [
        "from folium.plugins import HeatMap"
      ],
      "metadata": {
        "id": "-3kLTcxtI4Xm"
      },
      "execution_count": 32,
      "outputs": []
    },
    {
      "cell_type": "code",
      "source": [
        "from folium.plugins import HeatMap"
      ],
      "metadata": {
        "id": "CviLR4HcMWfF"
      },
      "execution_count": 33,
      "outputs": []
    },
    {
      "cell_type": "code",
      "source": [
        "sample_df=df.sample(int(0.001* len(df)))\n",
        "lat_lon_pairs= list(zip(list(df.Start_Lat), list(df.Start_Lng)))"
      ],
      "metadata": {
        "id": "zzklLcnpM0VU"
      },
      "execution_count": 39,
      "outputs": []
    },
    {
      "cell_type": "code",
      "source": [
        "map=folium.Map()\n",
        "HeatMap(lat_lon_pairs[:100]).add_to(map)\n",
        "map"
      ],
      "metadata": {
        "colab": {
          "base_uri": "https://localhost:8080/",
          "height": 757
        },
        "id": "fMD393QjKdry",
        "outputId": "5048e757-2fd8-449a-830c-09df63e6e2c4"
      },
      "execution_count": 40,
      "outputs": [
        {
          "output_type": "execute_result",
          "data": {
            "text/plain": [
              "<folium.folium.Map at 0x7fb12eb70b90>"
            ],
            "text/html": [
              "<div style=\"width:100%;\"><div style=\"position:relative;width:100%;height:0;padding-bottom:60%;\"><span style=\"color:#565656\">Make this Notebook Trusted to load map: File -> Trust Notebook</span><iframe srcdoc=\"&lt;!DOCTYPE html&gt;\n",
              "&lt;html&gt;\n",
              "&lt;head&gt;\n",
              "    \n",
              "    &lt;meta http-equiv=&quot;content-type&quot; content=&quot;text/html; charset=UTF-8&quot; /&gt;\n",
              "    \n",
              "        &lt;script&gt;\n",
              "            L_NO_TOUCH = false;\n",
              "            L_DISABLE_3D = false;\n",
              "        &lt;/script&gt;\n",
              "    \n",
              "    &lt;style&gt;html, body {width: 100%;height: 100%;margin: 0;padding: 0;}&lt;/style&gt;\n",
              "    &lt;style&gt;#map {position:absolute;top:0;bottom:0;right:0;left:0;}&lt;/style&gt;\n",
              "    &lt;script src=&quot;https://cdn.jsdelivr.net/npm/leaflet@1.9.3/dist/leaflet.js&quot;&gt;&lt;/script&gt;\n",
              "    &lt;script src=&quot;https://code.jquery.com/jquery-3.7.1.min.js&quot;&gt;&lt;/script&gt;\n",
              "    &lt;script src=&quot;https://cdn.jsdelivr.net/npm/bootstrap@5.2.2/dist/js/bootstrap.bundle.min.js&quot;&gt;&lt;/script&gt;\n",
              "    &lt;script src=&quot;https://cdnjs.cloudflare.com/ajax/libs/Leaflet.awesome-markers/2.0.2/leaflet.awesome-markers.js&quot;&gt;&lt;/script&gt;\n",
              "    &lt;link rel=&quot;stylesheet&quot; href=&quot;https://cdn.jsdelivr.net/npm/leaflet@1.9.3/dist/leaflet.css&quot;/&gt;\n",
              "    &lt;link rel=&quot;stylesheet&quot; href=&quot;https://cdn.jsdelivr.net/npm/bootstrap@5.2.2/dist/css/bootstrap.min.css&quot;/&gt;\n",
              "    &lt;link rel=&quot;stylesheet&quot; href=&quot;https://netdna.bootstrapcdn.com/bootstrap/3.0.0/css/bootstrap-glyphicons.css&quot;/&gt;\n",
              "    &lt;link rel=&quot;stylesheet&quot; href=&quot;https://cdn.jsdelivr.net/npm/@fortawesome/fontawesome-free@6.2.0/css/all.min.css&quot;/&gt;\n",
              "    &lt;link rel=&quot;stylesheet&quot; href=&quot;https://cdnjs.cloudflare.com/ajax/libs/Leaflet.awesome-markers/2.0.2/leaflet.awesome-markers.css&quot;/&gt;\n",
              "    &lt;link rel=&quot;stylesheet&quot; href=&quot;https://cdn.jsdelivr.net/gh/python-visualization/folium/folium/templates/leaflet.awesome.rotate.min.css&quot;/&gt;\n",
              "    \n",
              "            &lt;meta name=&quot;viewport&quot; content=&quot;width=device-width,\n",
              "                initial-scale=1.0, maximum-scale=1.0, user-scalable=no&quot; /&gt;\n",
              "            &lt;style&gt;\n",
              "                #map_c98f15e406c817a997320ea21b3b161d {\n",
              "                    position: relative;\n",
              "                    width: 100.0%;\n",
              "                    height: 100.0%;\n",
              "                    left: 0.0%;\n",
              "                    top: 0.0%;\n",
              "                }\n",
              "                .leaflet-container { font-size: 1rem; }\n",
              "            &lt;/style&gt;\n",
              "        \n",
              "    &lt;script src=&quot;https://cdn.jsdelivr.net/gh/python-visualization/folium@main/folium/templates/leaflet_heat.min.js&quot;&gt;&lt;/script&gt;\n",
              "&lt;/head&gt;\n",
              "&lt;body&gt;\n",
              "    \n",
              "    \n",
              "            &lt;div class=&quot;folium-map&quot; id=&quot;map_c98f15e406c817a997320ea21b3b161d&quot; &gt;&lt;/div&gt;\n",
              "        \n",
              "&lt;/body&gt;\n",
              "&lt;script&gt;\n",
              "    \n",
              "    \n",
              "            var map_c98f15e406c817a997320ea21b3b161d = L.map(\n",
              "                &quot;map_c98f15e406c817a997320ea21b3b161d&quot;,\n",
              "                {\n",
              "                    center: [0.0, 0.0],\n",
              "                    crs: L.CRS.EPSG3857,\n",
              "                    ...{\n",
              "  &quot;zoom&quot;: 1,\n",
              "  &quot;zoomControl&quot;: true,\n",
              "  &quot;preferCanvas&quot;: false,\n",
              "}\n",
              "\n",
              "                }\n",
              "            );\n",
              "\n",
              "            \n",
              "\n",
              "        \n",
              "    \n",
              "            var tile_layer_bfea3ddb1ba2b3d9c82e333e193c2d85 = L.tileLayer(\n",
              "                &quot;https://tile.openstreetmap.org/{z}/{x}/{y}.png&quot;,\n",
              "                {\n",
              "  &quot;minZoom&quot;: 0,\n",
              "  &quot;maxZoom&quot;: 19,\n",
              "  &quot;maxNativeZoom&quot;: 19,\n",
              "  &quot;noWrap&quot;: false,\n",
              "  &quot;attribution&quot;: &quot;\\u0026copy; \\u003ca href=\\&quot;https://www.openstreetmap.org/copyright\\&quot;\\u003eOpenStreetMap\\u003c/a\\u003e contributors&quot;,\n",
              "  &quot;subdomains&quot;: &quot;abc&quot;,\n",
              "  &quot;detectRetina&quot;: false,\n",
              "  &quot;tms&quot;: false,\n",
              "  &quot;opacity&quot;: 1,\n",
              "}\n",
              "\n",
              "            );\n",
              "        \n",
              "    \n",
              "            tile_layer_bfea3ddb1ba2b3d9c82e333e193c2d85.addTo(map_c98f15e406c817a997320ea21b3b161d);\n",
              "        \n",
              "    \n",
              "            var heat_map_52b37cf92f919005a411e6b871025642 = L.heatLayer(\n",
              "                [[39.865147, -84.058723], [39.92805900000001, -82.831184], [39.063148, -84.032608], [39.747753, -84.20558199999998], [39.627781, -84.188354], [40.10059, -82.92519399999998], [39.758274, -84.23050699999997], [39.770382, -84.194901], [39.778061, -84.172005], [40.10059, -82.92519399999998], [39.952812, -83.119293], [39.932709, -82.83091], [39.737633, -84.14993299999998], [39.79076, -84.241547], [39.972038, -82.913521], [39.745888, -84.17041], [39.748329, -84.224007], [39.752174, -84.239952], [39.740669, -84.184135], [39.790703, -84.244461], [40.052509, -82.88233199999998], [39.773346, -84.224686], [39.628288, -84.226151], [40.023487, -82.994888], [39.761379, -84.25921600000002], [40.158024, -82.641762], [39.733219, -84.159653], [39.775303, -84.200523], [39.789322, -84.23910500000002], [39.75872, -84.183762], [40.081459, -83.122398], [39.83321, -84.112946], [40.042725, -82.99730699999998], [39.974415, -82.848854], [39.994766, -83.02449], [40.006477, -83.030991], [39.742062, -84.186996], [39.843521, -82.78157], [39.782578, -84.178688], [40.007626, -82.912155], [39.447502, -84.19120799999997], [39.787731, -84.173439], [39.426277, -83.624611], [39.978306, -82.852554], [39.84182, -84.18960600000003], [39.953625, -82.958954], [40.053082, -83.049644], [39.936874, -82.878723], [39.780643, -84.16349], [39.773193, -84.187454], [39.77858, -84.20468100000002], [39.792988, -84.20607], [39.770382, -84.194901], [39.976398, -83.119225], [39.6395, -84.23136099999998], [39.232578, -84.159286], [39.746593, -84.23912], [39.742783, -84.182472], [39.75452, -84.159279], [39.749916, -84.139359], [40.100903, -82.98410799999998], [39.77280800000001, -84.201851], [39.492485, -84.131798], [39.570904, -84.251724], [39.834282, -82.74382], [39.622787, -84.229858], [39.429871, -84.079666], [41.407391, -81.64676700000003], [41.424404, -81.57867399999998], [39.89217, -83.039169], [41.022358, -83.650345], [39.206806, -84.053253], [39.973797, -83.022285], [40.048008, -82.86421999999997], [39.814526, -84.021744], [40.151196, -84.22003199999997], [39.954617, -82.844238], [38.990551, -84.207497], [40.008995, -83.002678], [39.077332, -84.225014], [39.955452, -82.795845], [40.224586, -82.929085], [39.976398, -83.119225], [39.98560300000001, -82.939247], [41.040714, -81.61314399999998], [41.083679, -81.579002], [40.766891, -82.42411], [41.422199, -81.843018], [41.063995, -81.57294499999998], [39.747753, -84.20558199999998], [38.99408, -84.142021], [41.420818, -81.694008], [40.030342, -83.030197], [39.858089, -82.827904], [41.112324, -81.60992399999998], [39.994061, -82.729416], [41.355396, -81.81926700000002], [39.687389, -84.23796800000002], [39.751038, -84.214325], [39.749916, -84.139359]],\n",
              "                {\n",
              "  &quot;minOpacity&quot;: 0.5,\n",
              "  &quot;maxZoom&quot;: 18,\n",
              "  &quot;radius&quot;: 25,\n",
              "  &quot;blur&quot;: 15,\n",
              "}\n",
              "            );\n",
              "        \n",
              "    \n",
              "            heat_map_52b37cf92f919005a411e6b871025642.addTo(map_c98f15e406c817a997320ea21b3b161d);\n",
              "        \n",
              "&lt;/script&gt;\n",
              "&lt;/html&gt;\" style=\"position:absolute;width:100%;height:100%;left:0;top:0;border:none !important;\" allowfullscreen webkitallowfullscreen mozallowfullscreen></iframe></div></div>"
            ]
          },
          "metadata": {},
          "execution_count": 40
        }
      ]
    },
    {
      "cell_type": "markdown",
      "source": [
        "## Ask & answer questions\n",
        "\n",
        "1. Are there more accidents in warmer or colder areas?\n",
        "2. Which 5 states have the highest number of accidents? How about per capita?\n",
        "3. Among the top 100 cities in number of accidents , which states do they belong to most frequently.\n",
        "4. WHat time of the day are accidents most frequent in?\n",
        "5. Which  days of the week have the most accidents?\n",
        "6. which months have the most accidents?\n",
        "7. what is the trend of the accidents year over year (incresing/decresing)?\n",
        "8."
      ],
      "metadata": {
        "id": "INqq4MO6-xP4"
      }
    }
  ]
}